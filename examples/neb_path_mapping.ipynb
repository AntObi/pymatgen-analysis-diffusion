{
 "cells": [
  {
   "cell_type": "markdown",
   "metadata": {},
   "source": [
    "# "
   ]
  },
  {
   "cell_type": "code",
   "execution_count": 69,
   "metadata": {},
   "outputs": [],
   "source": [
    "from pymatgen import MPRester, Structure\n",
    "from icecream import ic\n",
    "from crystal_toolkit.components.structure import StructureMoleculeComponent\n",
    "from crystal_toolkit.helpers.pythreejs_adapter import display_struct\n",
    "from crystal_toolkit.helpers.asymptote_export import write_asy_file"
   ]
  },
  {
   "cell_type": "code",
   "execution_count": 67,
   "metadata": {},
   "outputs": [],
   "source": [
    "from maggma.advanced_stores import MongograntStore\n",
    "from pymatgen.entries.computed_entries import ComputedStructureEntry\n",
    "from pymatgen.entries.compatibility import MaterialsProjectCompatibility\n",
    "compat = MaterialsProjectCompatibility('Advanced')\n",
    "elec = MongograntStore('ro:mongodb03/js_cathodes', 'concat_elec_basf')\n",
    "material = MongograntStore('ro:mongodb03/js_cathodes', 'materials_js')\n",
    "elec.connect()\n",
    "material.connect()\n",
    "mat_ids = elec.query_one({'material_ids' : {\"$size\" : 10}})['material_ids']\n",
    "mat_ids = list(map(int,mat_ids))\n",
    "base_ent = None\n",
    "insert_ent = []\n",
    "for cc in material.query({'task_id' : {\"$in\" : mat_ids}}):\n",
    "    struct = Structure.from_dict(cc['structure'])\n",
    "    entry = ComputedStructureEntry(structure=struct,\n",
    "                                  energy=cc['thermo']['energy'],\n",
    "                                  parameters=cc['calc_settings'], \n",
    "                                  entry_id=cc['task_id'])\n",
    "    entry = compat.process_entry(entry)\n",
    "    if entry.structure.num_sites == 42:\n",
    "        base_ent = entry\n",
    "    elif entry.structure.num_sites == 43:\n",
    "        insert_ent.append(entry)\n"
   ]
  },
  {
   "cell_type": "code",
   "execution_count": 68,
   "metadata": {},
   "outputs": [
    {
     "name": "stderr",
     "output_type": "stream",
     "text": [
      "/Users/lik/repos/js_mp/crystaltoolkit/crystal_toolkit/components/core.py:88: UserWarning:\n",
      "\n",
      "No app defined for component StructureMoleculeComponent, callbacks cannot be created. Please register app using MPComponent.register_app(app).\n",
      "\n",
      "/Users/lik/repos/js_mp/crystaltoolkit/crystal_toolkit/components/core.py:95: UserWarning:\n",
      "\n",
      "No cache is defined for component StructureMoleculeComponent, performance of app may be degraded. Please register cache using MPComponent.register_cache(cache).\n",
      "\n",
      "/Users/lik/repos/js_mp/crystaltoolkit/crystal_toolkit/components/core.py:39: UserWarning:\n",
      "\n",
      "Caching has not been set up, app performance may be degraded.\n",
      "\n",
      "/Users/lik/miniconda3/envs/pmg/lib/python3.6/site-packages/pymatgen/analysis/local_env.py:3547: UserWarning:\n",
      "\n",
      "CrystalNN: distance cutoffs set but no oxidation states specified on sites! For better results, set the site oxidation states in the structure.\n",
      "\n",
      "/Users/lik/miniconda3/envs/pmg/lib/python3.6/site-packages/pymatgen/analysis/local_env.py:3362: UserWarning:\n",
      "\n",
      "CrystalNN: cannot locate an appropriate radius, covalent or atomic radii will be used, this can lead to non-optimal results.\n",
      "\n"
     ]
    },
    {
     "data": {
      "application/vnd.jupyter.widget-view+json": {
       "model_id": "638cf4d8af194d77a3dd0ed41d6d4a32",
       "version_major": 2,
       "version_minor": 0
      },
      "text/plain": [
       "Renderer(camera=OrthographicCamera(bottom=-16.127325682806845, far=4000.0, left=-16.127325682806845, near=-400…"
      ]
     },
     "metadata": {},
     "output_type": "display_data"
    }
   ],
   "source": [
    "display_struct(base_ent.structure)"
   ]
  },
  {
   "cell_type": "code",
   "execution_count": 63,
   "metadata": {},
   "outputs": [
    {
     "name": "stderr",
     "output_type": "stream",
     "text": [
      "/Users/lik/repos/js_mp/crystaltoolkit/crystal_toolkit/components/core.py:88: UserWarning:\n",
      "\n",
      "No app defined for component StructureMoleculeComponent, callbacks cannot be created. Please register app using MPComponent.register_app(app).\n",
      "\n",
      "/Users/lik/repos/js_mp/crystaltoolkit/crystal_toolkit/components/core.py:95: UserWarning:\n",
      "\n",
      "No cache is defined for component StructureMoleculeComponent, performance of app may be degraded. Please register cache using MPComponent.register_cache(cache).\n",
      "\n",
      "/Users/lik/repos/js_mp/crystaltoolkit/crystal_toolkit/components/core.py:39: UserWarning:\n",
      "\n",
      "Caching has not been set up, app performance may be degraded.\n",
      "\n",
      "/Users/lik/miniconda3/envs/pmg/lib/python3.6/site-packages/pymatgen/analysis/local_env.py:3547: UserWarning:\n",
      "\n",
      "CrystalNN: distance cutoffs set but no oxidation states specified on sites! For better results, set the site oxidation states in the structure.\n",
      "\n",
      "/Users/lik/miniconda3/envs/pmg/lib/python3.6/site-packages/pymatgen/analysis/local_env.py:3362: UserWarning:\n",
      "\n",
      "CrystalNN: cannot locate an appropriate radius, covalent or atomic radii will be used, this can lead to non-optimal results.\n",
      "\n"
     ]
    },
    {
     "data": {
      "application/vnd.jupyter.widget-view+json": {
       "model_id": "68ac49b8de22465894c8c6c716dc1fb1",
       "version_major": 2,
       "version_minor": 0
      },
      "text/plain": [
       "Renderer(camera=OrthographicCamera(bottom=-16.268231419570114, far=4000.0, left=-16.268231419570114, near=-400…"
      ]
     },
     "metadata": {},
     "output_type": "display_data"
    }
   ],
   "source": [
    "for ent in insert_ent:\n",
    "    smc StructureMoleculeComponent(ent.structure, hide_incomplete_bonds=True)\n",
    "    file_name = ''\n",
    "    #write_asy_file()"
   ]
  },
  {
   "cell_type": "code",
   "execution_count": 19,
   "metadata": {},
   "outputs": [
    {
     "data": {
      "text/plain": [
       "('mp-1176656', 'mp-1045561')"
      ]
     },
     "execution_count": 19,
     "metadata": {},
     "output_type": "execute_result"
    }
   ],
   "source": [
    "\n",
    "['mp-1176656', 'mp-1045561']"
   ]
  },
  {
   "cell_type": "code",
   "execution_count": null,
   "metadata": {},
   "outputs": [],
   "source": [
    "mp-1176656\n",
    "mp-1045561"
   ]
  }
 ],
 "metadata": {
  "kernelspec": {
   "display_name": "Python 3",
   "language": "python",
   "name": "python3"
  },
  "language_info": {
   "codemirror_mode": {
    "name": "ipython",
    "version": 3
   },
   "file_extension": ".py",
   "mimetype": "text/x-python",
   "name": "python",
   "nbconvert_exporter": "python",
   "pygments_lexer": "ipython3",
   "version": "3.6.7"
  }
 },
 "nbformat": 4,
 "nbformat_minor": 2
}
