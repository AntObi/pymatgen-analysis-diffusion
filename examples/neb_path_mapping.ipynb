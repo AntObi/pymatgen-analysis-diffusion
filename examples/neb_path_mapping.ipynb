{
 "cells": [
  {
   "cell_type": "markdown",
   "metadata": {},
   "source": [
    "# Using the FullPathMapper for Migration For Graph based Migration Barrier Analysis"
   ]
  },
  {
   "cell_type": "code",
   "execution_count": 1,
   "metadata": {},
   "outputs": [],
   "source": [
    "# Start with a lithiated structure\n",
    "from pymatgen.core import Structure\n",
    "from pymatgen.ext.matproj import MPRester\n",
    "struct = MPRester().get_structure_by_material_id(\"mp-770533\")"
   ]
  },
  {
   "cell_type": "code",
   "execution_count": 4,
   "metadata": {},
   "outputs": [
    {
     "ename": "TypeError",
     "evalue": "__init__() got an unexpected keyword argument 'max_path_length'",
     "output_type": "error",
     "traceback": [
      "\u001b[0;31m---------------------------------------------------------------------------\u001b[0m",
      "\u001b[0;31mTypeError\u001b[0m                                 Traceback (most recent call last)",
      "\u001b[0;32m<ipython-input-4-63db377d55c9>\u001b[0m in \u001b[0;36m<module>\u001b[0;34m\u001b[0m\n\u001b[1;32m      2\u001b[0m \u001b[0;32mfrom\u001b[0m \u001b[0mpymatgen\u001b[0m\u001b[0;34m.\u001b[0m\u001b[0manalysis\u001b[0m\u001b[0;34m.\u001b[0m\u001b[0mdiffusion\u001b[0m\u001b[0;34m.\u001b[0m\u001b[0mneb\u001b[0m\u001b[0;34m.\u001b[0m\u001b[0mfull_path_mapper\u001b[0m \u001b[0;32mimport\u001b[0m \u001b[0mMigrationGraph\u001b[0m\u001b[0;34m\u001b[0m\u001b[0;34m\u001b[0m\u001b[0m\n\u001b[1;32m      3\u001b[0m \u001b[0;31m# instanciate the full path mapper, all hops with distance below a cutoff of 4 Angstroms will be considered.\u001b[0m\u001b[0;34m\u001b[0m\u001b[0;34m\u001b[0m\u001b[0;34m\u001b[0m\u001b[0m\n\u001b[0;32m----> 4\u001b[0;31m \u001b[0mfpm\u001b[0m \u001b[0;34m=\u001b[0m \u001b[0mMigrationGraph\u001b[0m\u001b[0;34m(\u001b[0m\u001b[0mstruct\u001b[0m\u001b[0;34m,\u001b[0m \u001b[0;34m'Li'\u001b[0m\u001b[0;34m,\u001b[0m \u001b[0mmax_path_length\u001b[0m\u001b[0;34m=\u001b[0m\u001b[0;36m4\u001b[0m\u001b[0;34m)\u001b[0m\u001b[0;34m\u001b[0m\u001b[0;34m\u001b[0m\u001b[0m\n\u001b[0m\u001b[1;32m      5\u001b[0m \u001b[0;31m# populate the edges with the MigratationPath objects\u001b[0m\u001b[0;34m\u001b[0m\u001b[0;34m\u001b[0m\u001b[0;34m\u001b[0m\u001b[0m\n\u001b[1;32m      6\u001b[0m \u001b[0mfpm\u001b[0m\u001b[0;34m.\u001b[0m\u001b[0mpopulate_edges_with_migration_paths\u001b[0m\u001b[0;34m(\u001b[0m\u001b[0;34m)\u001b[0m\u001b[0;34m\u001b[0m\u001b[0;34m\u001b[0m\u001b[0m\n",
      "\u001b[0;31mTypeError\u001b[0m: __init__() got an unexpected keyword argument 'max_path_length'"
     ]
    }
   ],
   "source": [
    "# BASIC usage of the Full \n",
    "from pymatgen.analysis.diffusion.neb.full_path_mapper import MigrationGraph\n",
    "# instanciate the full path mapper, all hops with distance below a cutoff of 4 Angstroms will be considered.\n",
    "fpm = MigrationGraph(struct, 'Li', max_path_length=4) \n",
    "# populate the edges with the MigratationPath objects\n",
    "fpm.populate_edges_with_migration_paths() \n",
    "# group the edges together based on equivalence of the MigratationPath objects\n",
    "fpm.group_and_label_hops()"
   ]
  },
  {
   "cell_type": "markdown",
   "metadata": {},
   "source": [
    "The result is a dicationary in the form of:\n",
    "```\n",
    "{\n",
    "    (start_index, end_index, edges_index) : {'hop_label', unique_hop_label}\n",
    "}\n",
    "```\n",
    "\n",
    "The `edge_index` only increments for hop with the same starting and ending site indices which represent hops to different unit cells. "
   ]
  }
 ],
 "metadata": {
  "kernelspec": {
   "display_name": "Python 3",
   "language": "python",
   "name": "python3"
  },
  "language_info": {
   "codemirror_mode": {
    "name": "ipython",
    "version": 3
   },
   "file_extension": ".py",
   "mimetype": "text/x-python",
   "name": "python",
   "nbconvert_exporter": "python",
   "pygments_lexer": "ipython3",
   "version": "3.8.8"
  }
 },
 "nbformat": 4,
 "nbformat_minor": 2
}
