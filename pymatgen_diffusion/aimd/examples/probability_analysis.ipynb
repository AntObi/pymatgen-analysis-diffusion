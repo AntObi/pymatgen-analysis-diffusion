{
 "cells": [
  {
   "cell_type": "markdown",
   "metadata": {},
   "source": [
    "# Example of using ProbabilityDensityAnalysis in pymatgen_diffusion/aimd/pathway.py"
   ]
  },
  {
   "cell_type": "code",
   "execution_count": 1,
   "metadata": {
    "collapsed": false
   },
   "outputs": [
    {
     "name": "stdout",
     "output_type": "stream",
     "text": [
      "100 out of 200\n",
      "200 out of 200\n",
      "Maximum: 0.030735573102, Minimum: 0.0\n",
      "Total probability: 1.0\n"
     ]
    }
   ],
   "source": [
    "from pymatgen_diffusion.aimd.pathway import ProbabilityDensityAnalysis\n",
    "from pymatgen import Structure\n",
    "import numpy as np\n",
    "\n",
    "#First prepare the structrue and ionic trajectories files\n",
    "trajectories = np.load(\"../tests/cNa3PS4_trajectories.npy\")\n",
    "structure = Structure.from_file(\"../tests/cNa3PS4.cif\", False)\n",
    "\n",
    "#ProbabilityDensityAnalysis object\n",
    "pda = ProbabilityDensityAnalysis(structure, trajectories, interval=0.5)\n",
    "#Save probability distribution to a CHGCAR-like file\n",
    "pda.to_chgcar(filename=\"CHGCAR_new.vasp\")\n",
    "\n",
    "print \"Maximum: %s, Minimum: %s\" % (pda.Pr.max(), pda.Pr.min())\n",
    "# \\int P(r)d^3r = 1\n",
    "print \"Total probability: %s\" % np.sum(pda.Pr * pda.structure.lattice.volume / pda.lens[0]/pda.lens[1]/pda.lens[2])"
   ]
  },
  {
   "cell_type": "code",
   "execution_count": null,
   "metadata": {
    "collapsed": true
   },
   "outputs": [],
   "source": []
  }
 ],
 "metadata": {
  "kernelspec": {
   "display_name": "Python 2",
   "language": "python",
   "name": "python2"
  },
  "language_info": {
   "codemirror_mode": {
    "name": "ipython",
    "version": 2
   },
   "file_extension": ".py",
   "mimetype": "text/x-python",
   "name": "python",
   "nbconvert_exporter": "python",
   "pygments_lexer": "ipython2",
   "version": "2.7.10"
  }
 },
 "nbformat": 4,
 "nbformat_minor": 0
}
